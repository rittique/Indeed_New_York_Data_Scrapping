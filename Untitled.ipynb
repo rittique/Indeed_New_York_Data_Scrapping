{
 "cells": [
  {
   "cell_type": "code",
   "execution_count": null,
   "id": "bff2e52b",
   "metadata": {},
   "outputs": [],
   "source": [
    "import pandas as pd\n",
    "import random\n",
    "import time\n",
    "from parsel import Selector\n",
    "from time import sleep\n",
    "from selenium.webdriver.common.by import by\n",
    "from selenium.webdriver.support.ui import WebDriverWait\n",
    "from selenium.webdriver.support import expected_conditions as EC\n",
    "from selenium.webdriver.chrome.options import Options\n",
    "from selenium.webdriver.common.keys import Keys\n",
    "\n",
    "chrome_options = Options()\n",
    "\n",
    "PROXY = \"\" # HOST:PORT\n",
    "\n",
    "chrome_options = webdriver.ChromeOptions()\n",
    "chrome_options.add_argument(f'--proxy-server={PROXY}')\n",
    "\n",
    "driver = webdriver.Chrome(executable_path=r'chromedriver', options=chrome_options)\n",
    "\n",
    "job_data = []\n",
    "\n",
    "for page in range(0, 1000, 10):\n",
    "    driver.get(f'https://www.indeed.com/jobs?q=&l=New+York%2C+NY&radius=35&start={page}')\n",
    "    time.sleep(random.uniform(8.5, 10.9))\n",
    "    \n",
    "    try:\n",
    "        close = driver.find_element(By.XPATH, '//button[@class = \"icl-CloseButton icl-Modal-close\"]')\n",
    "        \n",
    "        close.click()\n",
    "        \n",
    "    except:\n",
    "        \n",
    "        pass\n",
    "    \n",
    "    jobs = driver.find_elements(By.XPATH, '//*[@id=\"jobsearch-JapanPage\"]/div/div/div[5]/div[1]')\n",
    "    \n",
    "    for job in jobs:\n",
    "        job.location_once_scrolled_into_view\n",
    "        job.click()\n",
    "        time.sleep(random.uniform(4.6, 6.9))\n",
    "        \n",
    "        job_title = driver.fina"
   ]
  }
 ],
 "metadata": {
  "kernelspec": {
   "display_name": "Python 3 (ipykernel)",
   "language": "python",
   "name": "python3"
  },
  "language_info": {
   "codemirror_mode": {
    "name": "ipython",
    "version": 3
   },
   "file_extension": ".py",
   "mimetype": "text/x-python",
   "name": "python",
   "nbconvert_exporter": "python",
   "pygments_lexer": "ipython3",
   "version": "3.9.12"
  }
 },
 "nbformat": 4,
 "nbformat_minor": 5
}
