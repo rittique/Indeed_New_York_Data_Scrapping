{
 "cells": [
  {
   "cell_type": "code",
   "execution_count": 85,
   "id": "0ee99964",
   "metadata": {},
   "outputs": [],
   "source": [
    "import pandas as pd\n",
    "import random\n",
    "import time\n",
    "from parsel import Selector\n",
    "from datetime import datetime\n",
    "from time import sleep\n",
    "from selenium import webdriver\n",
    "from selenium.webdriver.common.by import By\n",
    "from selenium.webdriver.support.ui import WebDriverWait\n",
    "from selenium.webdriver.support import expected_conditions as EC\n",
    "from selenium.webdriver.chrome.options import Options\n",
    "from selenium.webdriver.common.keys import Keys\n",
    "from bs4 import BeautifulSoup\n",
    "\n",
    "chrome_options = Options()\n",
    "\n",
    "PROXY = \"\" # HOST:PORT\n",
    "\n",
    "chrome_options = webdriver.ChromeOptions()\n",
    "chrome_options.add_argument(f'--proxy-server={PROXY}')\n",
    "\n",
    "driver = webdriver.Chrome(executable_path=r'chromedriver', options=chrome_options)\n",
    "wait = WebDriverWait(driver, 10)"
   ]
  },
  {
   "cell_type": "code",
   "execution_count": 86,
   "id": "2ac4365f",
   "metadata": {},
   "outputs": [
    {
     "name": "stdout",
     "output_type": "stream",
     "text": [
      "Enter your email: rittiquealam@gmail.com\n",
      "Enter your password: KillMe@2030\n",
      "Enter your post: Testing Automation: Test01\n"
     ]
    }
   ],
   "source": [
    "email = input('Enter your email: ')\n",
    "password = input('Enter your password: ')\n",
    "post = input('Enter your post: ')\n",
    "\n",
    "driver.get('https://facebook.com/')\n",
    "\n",
    "email_input = driver.find_element(By.XPATH, '//*[@id=\"email\"]')\n",
    "email_input.send_keys(email)\n",
    "password_input = driver.find_element(By.XPATH, '//*[@id=\"pass\"]')\n",
    "password_input.send_keys(password)\n",
    "login_button = driver.find_element(By.TAG_NAME, 'button')\n",
    "login_button.click()\n",
    "wait.until(EC.url_changes('https://facebook.com/'))\n",
    "driver.get('https://www.facebook.com/groups/1620236638072327')"
   ]
  },
  {
   "cell_type": "code",
   "execution_count": 87,
   "id": "bd292d3c",
   "metadata": {},
   "outputs": [
    {
     "ename": "NoSuchElementException",
     "evalue": "Message: no such element: Unable to locate element: {\"method\":\"xpath\",\"selector\":\"//*[@id=\"mount_0_0_Iu\"]/div/div[1]/div/div[5]/div/div/div[3]/div/div/div[1]/div[1]/div/div[3]/div/div/div[4]/div/div[2]/div/div/div/div[1]/div/div/div/div[1]/div/div[1]/span\"}\n  (Session info: chrome=113.0.5672.93)\nStacktrace:\nBacktrace:\n\tGetHandleVerifier [0x00CC8893+48451]\n\t(No symbol) [0x00C5B8A1]\n\t(No symbol) [0x00B65058]\n\t(No symbol) [0x00B90467]\n\t(No symbol) [0x00B9069B]\n\t(No symbol) [0x00BBDD92]\n\t(No symbol) [0x00BAA304]\n\t(No symbol) [0x00BBC482]\n\t(No symbol) [0x00BAA0B6]\n\t(No symbol) [0x00B87E08]\n\t(No symbol) [0x00B88F2D]\n\tGetHandleVerifier [0x00F28E3A+2540266]\n\tGetHandleVerifier [0x00F68959+2801161]\n\tGetHandleVerifier [0x00F6295C+2776588]\n\tGetHandleVerifier [0x00D52280+612144]\n\t(No symbol) [0x00C64F6C]\n\t(No symbol) [0x00C611D8]\n\t(No symbol) [0x00C612BB]\n\t(No symbol) [0x00C54857]\n\tBaseThreadInitThunk [0x760A00C9+25]\n\tRtlGetAppContainerNamedObjectPath [0x77AB7B4E+286]\n\tRtlGetAppContainerNamedObjectPath [0x77AB7B1E+238]\n",
     "output_type": "error",
     "traceback": [
      "\u001b[1;31m---------------------------------------------------------------------------\u001b[0m",
      "\u001b[1;31mNoSuchElementException\u001b[0m                    Traceback (most recent call last)",
      "Input \u001b[1;32mIn [87]\u001b[0m, in \u001b[0;36m<cell line: 1>\u001b[1;34m()\u001b[0m\n\u001b[1;32m----> 1\u001b[0m post_box \u001b[38;5;241m=\u001b[39m \u001b[43mdriver\u001b[49m\u001b[38;5;241;43m.\u001b[39;49m\u001b[43mfind_element\u001b[49m\u001b[43m(\u001b[49m\u001b[43mBy\u001b[49m\u001b[38;5;241;43m.\u001b[39;49m\u001b[43mXPATH\u001b[49m\u001b[43m,\u001b[49m\u001b[43m \u001b[49m\u001b[38;5;124;43m'\u001b[39;49m\u001b[38;5;124;43m//*[@id=\u001b[39;49m\u001b[38;5;124;43m\"\u001b[39;49m\u001b[38;5;124;43mmount_0_0_Iu\u001b[39;49m\u001b[38;5;124;43m\"\u001b[39;49m\u001b[38;5;124;43m]/div/div[1]/div/div[5]/div/div/div[3]/div/div/div[1]/div[1]/div/div[3]/div/div/div[4]/div/div[2]/div/div/div/div[1]/div/div/div/div[1]/div/div[1]/span\u001b[39;49m\u001b[38;5;124;43m'\u001b[39;49m\u001b[43m)\u001b[49m\n\u001b[0;32m      2\u001b[0m post_box\u001b[38;5;241m.\u001b[39mclick()\n",
      "File \u001b[1;32m~\\anaconda3\\lib\\site-packages\\selenium\\webdriver\\remote\\webdriver.py:831\u001b[0m, in \u001b[0;36mWebDriver.find_element\u001b[1;34m(self, by, value)\u001b[0m\n\u001b[0;32m    828\u001b[0m     by \u001b[38;5;241m=\u001b[39m By\u001b[38;5;241m.\u001b[39mCSS_SELECTOR\n\u001b[0;32m    829\u001b[0m     value \u001b[38;5;241m=\u001b[39m \u001b[38;5;124mf\u001b[39m\u001b[38;5;124m'\u001b[39m\u001b[38;5;124m[name=\u001b[39m\u001b[38;5;124m\"\u001b[39m\u001b[38;5;132;01m{\u001b[39;00mvalue\u001b[38;5;132;01m}\u001b[39;00m\u001b[38;5;124m\"\u001b[39m\u001b[38;5;124m]\u001b[39m\u001b[38;5;124m'\u001b[39m\n\u001b[1;32m--> 831\u001b[0m \u001b[38;5;28;01mreturn\u001b[39;00m \u001b[38;5;28;43mself\u001b[39;49m\u001b[38;5;241;43m.\u001b[39;49m\u001b[43mexecute\u001b[49m\u001b[43m(\u001b[49m\u001b[43mCommand\u001b[49m\u001b[38;5;241;43m.\u001b[39;49m\u001b[43mFIND_ELEMENT\u001b[49m\u001b[43m,\u001b[49m\u001b[43m \u001b[49m\u001b[43m{\u001b[49m\u001b[38;5;124;43m\"\u001b[39;49m\u001b[38;5;124;43musing\u001b[39;49m\u001b[38;5;124;43m\"\u001b[39;49m\u001b[43m:\u001b[49m\u001b[43m \u001b[49m\u001b[43mby\u001b[49m\u001b[43m,\u001b[49m\u001b[43m \u001b[49m\u001b[38;5;124;43m\"\u001b[39;49m\u001b[38;5;124;43mvalue\u001b[39;49m\u001b[38;5;124;43m\"\u001b[39;49m\u001b[43m:\u001b[49m\u001b[43m \u001b[49m\u001b[43mvalue\u001b[49m\u001b[43m}\u001b[49m\u001b[43m)\u001b[49m[\u001b[38;5;124m\"\u001b[39m\u001b[38;5;124mvalue\u001b[39m\u001b[38;5;124m\"\u001b[39m]\n",
      "File \u001b[1;32m~\\anaconda3\\lib\\site-packages\\selenium\\webdriver\\remote\\webdriver.py:440\u001b[0m, in \u001b[0;36mWebDriver.execute\u001b[1;34m(self, driver_command, params)\u001b[0m\n\u001b[0;32m    438\u001b[0m response \u001b[38;5;241m=\u001b[39m \u001b[38;5;28mself\u001b[39m\u001b[38;5;241m.\u001b[39mcommand_executor\u001b[38;5;241m.\u001b[39mexecute(driver_command, params)\n\u001b[0;32m    439\u001b[0m \u001b[38;5;28;01mif\u001b[39;00m response:\n\u001b[1;32m--> 440\u001b[0m     \u001b[38;5;28;43mself\u001b[39;49m\u001b[38;5;241;43m.\u001b[39;49m\u001b[43merror_handler\u001b[49m\u001b[38;5;241;43m.\u001b[39;49m\u001b[43mcheck_response\u001b[49m\u001b[43m(\u001b[49m\u001b[43mresponse\u001b[49m\u001b[43m)\u001b[49m\n\u001b[0;32m    441\u001b[0m     response[\u001b[38;5;124m\"\u001b[39m\u001b[38;5;124mvalue\u001b[39m\u001b[38;5;124m\"\u001b[39m] \u001b[38;5;241m=\u001b[39m \u001b[38;5;28mself\u001b[39m\u001b[38;5;241m.\u001b[39m_unwrap_value(response\u001b[38;5;241m.\u001b[39mget(\u001b[38;5;124m\"\u001b[39m\u001b[38;5;124mvalue\u001b[39m\u001b[38;5;124m\"\u001b[39m, \u001b[38;5;28;01mNone\u001b[39;00m))\n\u001b[0;32m    442\u001b[0m     \u001b[38;5;28;01mreturn\u001b[39;00m response\n",
      "File \u001b[1;32m~\\anaconda3\\lib\\site-packages\\selenium\\webdriver\\remote\\errorhandler.py:245\u001b[0m, in \u001b[0;36mErrorHandler.check_response\u001b[1;34m(self, response)\u001b[0m\n\u001b[0;32m    243\u001b[0m         alert_text \u001b[38;5;241m=\u001b[39m value[\u001b[38;5;124m\"\u001b[39m\u001b[38;5;124malert\u001b[39m\u001b[38;5;124m\"\u001b[39m]\u001b[38;5;241m.\u001b[39mget(\u001b[38;5;124m\"\u001b[39m\u001b[38;5;124mtext\u001b[39m\u001b[38;5;124m\"\u001b[39m)\n\u001b[0;32m    244\u001b[0m     \u001b[38;5;28;01mraise\u001b[39;00m exception_class(message, screen, stacktrace, alert_text)  \u001b[38;5;66;03m# type: ignore[call-arg]  # mypy is not smart enough here\u001b[39;00m\n\u001b[1;32m--> 245\u001b[0m \u001b[38;5;28;01mraise\u001b[39;00m exception_class(message, screen, stacktrace)\n",
      "\u001b[1;31mNoSuchElementException\u001b[0m: Message: no such element: Unable to locate element: {\"method\":\"xpath\",\"selector\":\"//*[@id=\"mount_0_0_Iu\"]/div/div[1]/div/div[5]/div/div/div[3]/div/div/div[1]/div[1]/div/div[3]/div/div/div[4]/div/div[2]/div/div/div/div[1]/div/div/div/div[1]/div/div[1]/span\"}\n  (Session info: chrome=113.0.5672.93)\nStacktrace:\nBacktrace:\n\tGetHandleVerifier [0x00CC8893+48451]\n\t(No symbol) [0x00C5B8A1]\n\t(No symbol) [0x00B65058]\n\t(No symbol) [0x00B90467]\n\t(No symbol) [0x00B9069B]\n\t(No symbol) [0x00BBDD92]\n\t(No symbol) [0x00BAA304]\n\t(No symbol) [0x00BBC482]\n\t(No symbol) [0x00BAA0B6]\n\t(No symbol) [0x00B87E08]\n\t(No symbol) [0x00B88F2D]\n\tGetHandleVerifier [0x00F28E3A+2540266]\n\tGetHandleVerifier [0x00F68959+2801161]\n\tGetHandleVerifier [0x00F6295C+2776588]\n\tGetHandleVerifier [0x00D52280+612144]\n\t(No symbol) [0x00C64F6C]\n\t(No symbol) [0x00C611D8]\n\t(No symbol) [0x00C612BB]\n\t(No symbol) [0x00C54857]\n\tBaseThreadInitThunk [0x760A00C9+25]\n\tRtlGetAppContainerNamedObjectPath [0x77AB7B4E+286]\n\tRtlGetAppContainerNamedObjectPath [0x77AB7B1E+238]\n"
     ]
    }
   ],
   "source": [
    "post_box = driver.find_element(By.XPATH, '//*[@id=\"mount_0_0_Iu\"]/div/div[1]/div/div[5]/div/div/div[3]/div/div/div[1]/div[1]/div/div[3]/div/div/div[4]/div/div[2]/div/div/div/div[1]/div/div/div/div[1]/div/div[1]/span')\n",
    "post_box.click()"
   ]
  },
  {
   "cell_type": "code",
   "execution_count": null,
   "id": "ae94ab62",
   "metadata": {},
   "outputs": [],
   "source": [
    "writing_promt = driver.find_element(By.XPATH, '//*[@id=\"mount_0_0_Iu\"]/div/div[1]/div/div[6]/div/div/div[1]/div/div[2]/div/div/div/div/div[1]/form/div/div[1]/div/div/div[1]/div/div[2]/div[1]/div[1]/div[1]/div[1]/div/div/div/div/div[2]/div/div/div/div')\n",
    "writing_promt.send_keys(post)"
   ]
  },
  {
   "cell_type": "code",
   "execution_count": null,
   "id": "384ad003",
   "metadata": {},
   "outputs": [],
   "source": [
    "post_button = driver.find_element(By.XPATH, '//*[@id=\"mount_0_0_Iu\"]/div/div[1]/div/div[6]/div/div/div[1]/div/div[2]/div/div/div/div/div[1]/form/div/div[1]/div/div/div[1]/div/div[3]/div[2]/div[1]/div/div/div[1]/div/span')\n",
    "post_button.click()"
   ]
  },
  {
   "cell_type": "code",
   "execution_count": null,
   "id": "cc7659d3",
   "metadata": {},
   "outputs": [],
   "source": []
  },
  {
   "cell_type": "code",
   "execution_count": null,
   "id": "3b344835",
   "metadata": {},
   "outputs": [],
   "source": []
  },
  {
   "cell_type": "code",
   "execution_count": null,
   "id": "05b7dc18",
   "metadata": {},
   "outputs": [],
   "source": []
  }
 ],
 "metadata": {
  "kernelspec": {
   "display_name": "Python 3 (ipykernel)",
   "language": "python",
   "name": "python3"
  },
  "language_info": {
   "codemirror_mode": {
    "name": "ipython",
    "version": 3
   },
   "file_extension": ".py",
   "mimetype": "text/x-python",
   "name": "python",
   "nbconvert_exporter": "python",
   "pygments_lexer": "ipython3",
   "version": "3.9.12"
  }
 },
 "nbformat": 4,
 "nbformat_minor": 5
}
