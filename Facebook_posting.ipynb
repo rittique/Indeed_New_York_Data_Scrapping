{
 "cells": [
  {
   "cell_type": "code",
   "execution_count": 31,
   "id": "0ee99964",
   "metadata": {},
   "outputs": [],
   "source": [
    "import pandas as pd\n",
    "import random\n",
    "import time\n",
    "from parsel import Selector\n",
    "from datetime import datetime\n",
    "from time import sleep\n",
    "from selenium import webdriver\n",
    "from selenium.webdriver.common.by import By\n",
    "from selenium.webdriver.support.ui import WebDriverWait\n",
    "from selenium.webdriver.support import expected_conditions as EC\n",
    "from selenium.webdriver.chrome.options import Options\n",
    "from selenium.webdriver.common.keys import Keys\n",
    "from selenium.webdriver.common.action_chains import ActionChains\n",
    "from bs4 import BeautifulSoup\n",
    "\n",
    "chrome_options = Options()\n",
    "chrome_options.add_argument('--disable-notifications')\n",
    "chrome_options.add_argument(\"--disable-infobars\")\n",
    "chrome_options.add_argument(\"start-maximized\")\n",
    "chrome_options.add_argument(\"--disable-extensions\")\n",
    "chrome_options.add_experimental_option(\"prefs\", { \n",
    "    \"profile.default_content_setting_values.notifications\": 2 \n",
    "})\n",
    "PROXY = \"\" # HOST:PORT\n",
    "\n",
    "chrome_options = webdriver.ChromeOptions()\n",
    "chrome_options.add_argument(f'--proxy-server={PROXY}')\n",
    "\n",
    "driver = webdriver.Chrome(executable_path=r'chromedriver', options=chrome_options)\n",
    "wait = WebDriverWait(driver, 10)"
   ]
  },
  {
   "cell_type": "code",
   "execution_count": 32,
   "id": "2ac4365f",
   "metadata": {},
   "outputs": [
    {
     "name": "stdout",
     "output_type": "stream",
     "text": [
      "Enter your email: rittiquealam@gmail.com\n",
      "Enter your password: KillMe@2030\n",
      "Enter your post: Test 05\n"
     ]
    }
   ],
   "source": [
    "email = input('Enter your email: ')\n",
    "password = input('Enter your password: ')\n",
    "post = input('Enter your post: ')\n",
    "\n",
    "driver.get('https://facebook.com/')\n",
    "\n",
    "email_input = driver.find_element(By.XPATH, '//*[@id=\"email\"]')\n",
    "email_input.send_keys(email)\n",
    "password_input = driver.find_element(By.XPATH, '//*[@id=\"pass\"]')\n",
    "password_input.send_keys(password)\n",
    "login_button = driver.find_element(By.TAG_NAME, 'button')\n",
    "login_button.click()\n",
    "wait.until(EC.url_changes('https://facebook.com/'))\n",
    "driver.get('https://www.facebook.com/groups/1620236638072327')\n",
    "actions= ActionChains(driver)\n",
    "actions.send_keys(Keys.ESCAPE).perform()\n",
    "try:\n",
    "    post_box = driver.find_element(By.XPATH, \"//*[text()='Write something...']\")\n",
    "except:\n",
    "    post_box = driver.find_element(By.XPATH, \"//*[@class='x1lliihq x6ikm8r x10wlt62 x1n2onr6' or @style='-webkit-box-orient: vertical; -webkit-line-clamp: 2; display: -webkit-box;']\")\n",
    "\n",
    "post_box.click()\n",
    "actions_post = ActionChains(driver)\n",
    "actions_post.send_keys(post).perform()\n",
    "\n",
    "post_button = driver.find_element(By.XPATH, \"//*[text()='Post']\")\n",
    "post_button.click()"
   ]
  },
  {
   "cell_type": "code",
   "execution_count": 9,
   "id": "c70fd036",
   "metadata": {},
   "outputs": [],
   "source": [
    "actions.send_keys(Keys.ESCAPE).perform()"
   ]
  },
  {
   "cell_type": "code",
   "execution_count": 82,
   "id": "fe5876a2",
   "metadata": {},
   "outputs": [
    {
     "data": {
      "text/plain": [
       "<selenium.webdriver.common.action_chains.ActionChains at 0x2200d4dc760>"
      ]
     },
     "execution_count": 82,
     "metadata": {},
     "output_type": "execute_result"
    }
   ],
   "source": [
    "actions.send_keys(Keys.ESCAPE).perform()"
   ]
  },
  {
   "cell_type": "code",
   "execution_count": 86,
   "id": "83c58175",
   "metadata": {},
   "outputs": [],
   "source": [
    "actions.send_keys(Keys.ENTER).perform()"
   ]
  },
  {
   "cell_type": "code",
   "execution_count": 94,
   "id": "92d7bb2f",
   "metadata": {},
   "outputs": [],
   "source": []
  },
  {
   "cell_type": "raw",
   "id": "dd8eaf94",
   "metadata": {},
   "source": [
    "try:\n",
    "    post_box = driver.find_element(By.XPATH, \"//*[text()='Write something...']\")\n",
    "except:\n",
    "    post_box = driver.find_element(By.XPATH, \"//*[@class='x1lliihq x6ikm8r x10wlt62 x1n2onr6' or @style='-webkit-box-orient: vertical; -webkit-line-clamp: 2; display: -webkit-box;']\")\n",
    "\n",
    "webdriver.ActionChains(driver).move_to_element(post_box).click(post_box).perform()\n",
    "post_box.click()\n",
    "actions.send_keys(Keys.ENTER)\n",
    "actions.send_keys(post)\n",
    "actions.send_keys(Keys.ENTER) ### Press ENTER to post the content on facebook\n",
    "actions.perform()\n",
    "\"\"\"writing_prompt = driver.find_element(By.XPATH, \"//span[contains(@data-offset-key, '-0-0')]\")\n",
    "writing_prompt.click()\n",
    "writing_prompt.send_keys(post)\n",
    "post_button = driver.find_element(By.XPATH, \"//*[text()='Post']\")\n",
    "post_button.click()\"\"\"\n"
   ]
  },
  {
   "cell_type": "code",
   "execution_count": 14,
   "id": "cc7659d3",
   "metadata": {},
   "outputs": [
    {
     "name": "stdout",
     "output_type": "stream",
     "text": [
      "{\"error\":{\"message\":\"Unknown path components: \\/1620236638072327\",\"type\":\"OAuthException\",\"code\":2500,\"fbtrace_id\":\"AIl7S35NFETNdyGNjH-LgnE\"}}\n"
     ]
    }
   ],
   "source": [
    "import requests\n",
    "\n",
    "access_token = \"EAANCEHlXZCf0BAIR5BmBupCpt6saBSeYXCOwtZAzorzLmS39fHECSlSBC8XtKRchNz9ZC4jw4hZCZAjVnuWlOBCXh4e77KW73h7kNbSlkD7i3rrKyhSyRv3HOONNAW0KuwOJW7LFdE5VMusxjNE4l5oU8knZAyO5DXZB1LZAOd5S0J4F5DPkouGJVZBV3jC5X8MviiVHrXmsCWIMiDpEpXFsC9ZBYTask7DclxIaluk82FOEVPzSpZBR8ZCs\"\n",
    "group_AT = 1620236638072327\n",
    "\n",
    "msg = 'test 04'\n",
    "post_url = 'https://graph.facebook.com/group/{}'.format(group_AT)\n",
    "payload = {\n",
    "'message': msg,\n",
    "'access_token': access_token\n",
    "}\n",
    "r = requests.post(post_url, data=payload)\n",
    "print(r.text)"
   ]
  },
  {
   "cell_type": "code",
   "execution_count": 13,
   "id": "3b344835",
   "metadata": {},
   "outputs": [
    {
     "ename": "GraphAPIError",
     "evalue": "(#200) If posting to a group, requires app being installed in the group, and \\\n          either publish_to_groups permission with user token, or both pages_read_engagement \\\n          and pages_manage_posts permission with page token; If posting to a page, \\\n          requires both pages_read_engagement and pages_manage_posts as an admin with \\\n          sufficient administrative permission",
     "output_type": "error",
     "traceback": [
      "\u001b[1;31m---------------------------------------------------------------------------\u001b[0m",
      "\u001b[1;31mGraphAPIError\u001b[0m                             Traceback (most recent call last)",
      "Input \u001b[1;32mIn [13]\u001b[0m, in \u001b[0;36m<cell line: 7>\u001b[1;34m()\u001b[0m\n\u001b[0;32m      4\u001b[0m token \u001b[38;5;241m=\u001b[39m \u001b[38;5;124m\"\u001b[39m\u001b[38;5;124mEAANCEHlXZCf0BAIR5BmBupCpt6saBSeYXCOwtZAzorzLmS39fHECSlSBC8XtKRchNz9ZC4jw4hZCZAjVnuWlOBCXh4e77KW73h7kNbSlkD7i3rrKyhSyRv3HOONNAW0KuwOJW7LFdE5VMusxjNE4l5oU8knZAyO5DXZB1LZAOd5S0J4F5DPkouGJVZBV3jC5X8MviiVHrXmsCWIMiDpEpXFsC9ZBYTask7DclxIaluk82FOEVPzSpZBR8ZCs\u001b[39m\u001b[38;5;124m\"\u001b[39m\n\u001b[0;32m      5\u001b[0m graph \u001b[38;5;241m=\u001b[39m facebook\u001b[38;5;241m.\u001b[39mGraphAPI(access_token\u001b[38;5;241m=\u001b[39mtoken)\n\u001b[1;32m----> 7\u001b[0m x \u001b[38;5;241m=\u001b[39m \u001b[43mgraph\u001b[49m\u001b[38;5;241;43m.\u001b[39;49m\u001b[43mput_object\u001b[49m\u001b[43m(\u001b[49m\u001b[43mgroup\u001b[49m\u001b[43m,\u001b[49m\u001b[43m \u001b[49m\u001b[38;5;124;43m'\u001b[39;49m\u001b[38;5;124;43mfeed\u001b[39;49m\u001b[38;5;124;43m'\u001b[39;49m\u001b[43m,\u001b[49m\u001b[43m \u001b[49m\u001b[43mmessage\u001b[49m\u001b[38;5;241;43m=\u001b[39;49m\u001b[43mpost\u001b[49m\u001b[43m)\u001b[49m\n\u001b[0;32m      8\u001b[0m \u001b[38;5;28mprint\u001b[39m(x)\n",
      "File \u001b[1;32m~\\anaconda3\\lib\\site-packages\\facebook\\__init__.py:189\u001b[0m, in \u001b[0;36mGraphAPI.put_object\u001b[1;34m(self, parent_object, connection_name, **data)\u001b[0m\n\u001b[0;32m    170\u001b[0m \u001b[38;5;250m\u001b[39m\u001b[38;5;124;03m\"\"\"Writes the given object to the graph, connected to the given parent.\u001b[39;00m\n\u001b[0;32m    171\u001b[0m \n\u001b[0;32m    172\u001b[0m \u001b[38;5;124;03mFor example,\u001b[39;00m\n\u001b[1;32m   (...)\u001b[0m\n\u001b[0;32m    186\u001b[0m \n\u001b[0;32m    187\u001b[0m \u001b[38;5;124;03m\"\"\"\u001b[39;00m\n\u001b[0;32m    188\u001b[0m \u001b[38;5;28;01massert\u001b[39;00m \u001b[38;5;28mself\u001b[39m\u001b[38;5;241m.\u001b[39maccess_token, \u001b[38;5;124m\"\u001b[39m\u001b[38;5;124mWrite operations require an access token\u001b[39m\u001b[38;5;124m\"\u001b[39m\n\u001b[1;32m--> 189\u001b[0m \u001b[38;5;28;01mreturn\u001b[39;00m \u001b[38;5;28;43mself\u001b[39;49m\u001b[38;5;241;43m.\u001b[39;49m\u001b[43mrequest\u001b[49m\u001b[43m(\u001b[49m\n\u001b[0;32m    190\u001b[0m \u001b[43m    \u001b[49m\u001b[38;5;124;43m\"\u001b[39;49m\u001b[38;5;132;43;01m{0}\u001b[39;49;00m\u001b[38;5;124;43m/\u001b[39;49m\u001b[38;5;132;43;01m{1}\u001b[39;49;00m\u001b[38;5;124;43m/\u001b[39;49m\u001b[38;5;132;43;01m{2}\u001b[39;49;00m\u001b[38;5;124;43m\"\u001b[39;49m\u001b[38;5;241;43m.\u001b[39;49m\u001b[43mformat\u001b[49m\u001b[43m(\u001b[49m\u001b[38;5;28;43mself\u001b[39;49m\u001b[38;5;241;43m.\u001b[39;49m\u001b[43mversion\u001b[49m\u001b[43m,\u001b[49m\u001b[43m \u001b[49m\u001b[43mparent_object\u001b[49m\u001b[43m,\u001b[49m\u001b[43m \u001b[49m\u001b[43mconnection_name\u001b[49m\u001b[43m)\u001b[49m\u001b[43m,\u001b[49m\n\u001b[0;32m    191\u001b[0m \u001b[43m    \u001b[49m\u001b[43mpost_args\u001b[49m\u001b[38;5;241;43m=\u001b[39;49m\u001b[43mdata\u001b[49m\u001b[43m,\u001b[49m\n\u001b[0;32m    192\u001b[0m \u001b[43m    \u001b[49m\u001b[43mmethod\u001b[49m\u001b[38;5;241;43m=\u001b[39;49m\u001b[38;5;124;43m\"\u001b[39;49m\u001b[38;5;124;43mPOST\u001b[39;49m\u001b[38;5;124;43m\"\u001b[39;49m\u001b[43m,\u001b[49m\n\u001b[0;32m    193\u001b[0m \u001b[43m\u001b[49m\u001b[43m)\u001b[49m\n",
      "File \u001b[1;32m~\\anaconda3\\lib\\site-packages\\facebook\\__init__.py:313\u001b[0m, in \u001b[0;36mGraphAPI.request\u001b[1;34m(self, path, args, post_args, files, method)\u001b[0m\n\u001b[0;32m    310\u001b[0m     \u001b[38;5;28;01mraise\u001b[39;00m GraphAPIError(\u001b[38;5;124m\"\u001b[39m\u001b[38;5;124mMaintype was not text, image, or querystring\u001b[39m\u001b[38;5;124m\"\u001b[39m)\n\u001b[0;32m    312\u001b[0m \u001b[38;5;28;01mif\u001b[39;00m result \u001b[38;5;129;01mand\u001b[39;00m \u001b[38;5;28misinstance\u001b[39m(result, \u001b[38;5;28mdict\u001b[39m) \u001b[38;5;129;01mand\u001b[39;00m result\u001b[38;5;241m.\u001b[39mget(\u001b[38;5;124m\"\u001b[39m\u001b[38;5;124merror\u001b[39m\u001b[38;5;124m\"\u001b[39m):\n\u001b[1;32m--> 313\u001b[0m     \u001b[38;5;28;01mraise\u001b[39;00m GraphAPIError(result)\n\u001b[0;32m    314\u001b[0m \u001b[38;5;28;01mreturn\u001b[39;00m result\n",
      "\u001b[1;31mGraphAPIError\u001b[0m: (#200) If posting to a group, requires app being installed in the group, and \\\n          either publish_to_groups permission with user token, or both pages_read_engagement \\\n          and pages_manage_posts permission with page token; If posting to a page, \\\n          requires both pages_read_engagement and pages_manage_posts as an admin with \\\n          sufficient administrative permission"
     ]
    }
   ],
   "source": [
    "import facebook\n",
    "group = 1620236638072327\n",
    "post = \"Test 04\"\n",
    "token = \"EAANCEHlXZCf0BAIR5BmBupCpt6saBSeYXCOwtZAzorzLmS39fHECSlSBC8XtKRchNz9ZC4jw4hZCZAjVnuWlOBCXh4e77KW73h7kNbSlkD7i3rrKyhSyRv3HOONNAW0KuwOJW7LFdE5VMusxjNE4l5oU8knZAyO5DXZB1LZAOd5S0J4F5DPkouGJVZBV3jC5X8MviiVHrXmsCWIMiDpEpXFsC9ZBYTask7DclxIaluk82FOEVPzSpZBR8ZCs\"\n",
    "graph = facebook.GraphAPI(access_token=token)\n",
    "\n",
    "x = graph.put_object(group, 'feed', message=post)\n",
    "print(x)"
   ]
  },
  {
   "cell_type": "code",
   "execution_count": 21,
   "id": "05b7dc18",
   "metadata": {},
   "outputs": [],
   "source": []
  },
  {
   "cell_type": "code",
   "execution_count": null,
   "id": "828e47a7",
   "metadata": {},
   "outputs": [],
   "source": []
  }
 ],
 "metadata": {
  "kernelspec": {
   "display_name": "Python 3 (ipykernel)",
   "language": "python",
   "name": "python3"
  },
  "language_info": {
   "codemirror_mode": {
    "name": "ipython",
    "version": 3
   },
   "file_extension": ".py",
   "mimetype": "text/x-python",
   "name": "python",
   "nbconvert_exporter": "python",
   "pygments_lexer": "ipython3",
   "version": "3.9.12"
  }
 },
 "nbformat": 4,
 "nbformat_minor": 5
}
